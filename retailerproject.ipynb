{
 "cells": [
  {
   "cell_type": "code",
   "execution_count": null,
   "id": "da535897-0bbf-4db2-8bbb-c63a618ca3da",
   "metadata": {},
   "outputs": [],
   "source": [
    "'''retailer company want to predict customer purchases behaveier based on their age ,salary and past \n",
    "purchase history the company aims to use the k-neare neighdors to classify customers into potential buying \n",
    "groups to personalize marketing strategies this predictive model will help the company undestand and target specific \n",
    "customer sigment more effentially and effectivily their by increasing cellsand customer satistaction'''"
   ]
  },
  {
   "cell_type": "code",
   "execution_count": 13,
   "id": "e51d39d4-a703-47a1-95ee-addf22cc0417",
   "metadata": {},
   "outputs": [
    {
     "name": "stdout",
     "output_type": "stream",
     "text": [
      "model accuracy:0.0\n"
     ]
    },
    {
     "data": {
      "text/plain": [
       "array([1])"
      ]
     },
     "execution_count": 13,
     "metadata": {},
     "output_type": "execute_result"
    }
   ],
   "source": [
    "import numpy as nd\n",
    "from sklearn.model_selection import train_test_split\n",
    "from sklearn.preprocessing import StandardScaler\n",
    "from sklearn.neighbors import KNeighborsClassifier\n",
    "data = nd.array([[25,25000,2],[30,80000,1],[35,60000,3],[40,90000,2],[20,35000,4]])\n",
    "labels = nd.array([1,2,1,0,2])\n",
    "x_train,x_test,y_train,y_test = train_test_split(data,labels,test_size = 0.2)\n",
    "scaler = StandardScaler()\n",
    "x_train = scaler.fit_transform(x_train)\n",
    "x_test = scaler.fit_transform(x_test)\n",
    "knn = KNeighborsClassifier(n_neighbors=3)\n",
    "knn.fit (x_train,y_train)\n",
    "accuarcy = knn.score(x_test,y_test)\n",
    "print(f\"model accuracy:{accuarcy}\")\n",
    "user_input = nd.array([[32,70000,2]])\n",
    "user_input_scaler = scaler.transform(user_input)\n",
    "knn.predict(user_input_scaler)"
   ]
  },
  {
   "cell_type": "code",
   "execution_count": null,
   "id": "d21bf16b-ccdf-4aaa-b258-37ef56e02e35",
   "metadata": {},
   "outputs": [],
   "source": []
  }
 ],
 "metadata": {
  "kernelspec": {
   "display_name": "Python 3 (ipykernel)",
   "language": "python",
   "name": "python3"
  },
  "language_info": {
   "codemirror_mode": {
    "name": "ipython",
    "version": 3
   },
   "file_extension": ".py",
   "mimetype": "text/x-python",
   "name": "python",
   "nbconvert_exporter": "python",
   "pygments_lexer": "ipython3",
   "version": "3.12.2"
  }
 },
 "nbformat": 4,
 "nbformat_minor": 5
}
